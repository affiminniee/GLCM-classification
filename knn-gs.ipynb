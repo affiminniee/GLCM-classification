{
 "cells": [
  {
   "cell_type": "code",
   "execution_count": null,
   "metadata": {
    "collapsed": true,
    "deletable": true,
    "editable": true
   },
   "outputs": [],
   "source": [
    "import pandas as pd\n",
    "import numpy as np"
   ]
  },
  {
   "cell_type": "code",
   "execution_count": 27,
   "metadata": {
    "collapsed": false,
    "deletable": true,
    "editable": true
   },
   "outputs": [
    {
     "name": "stdout",
     "output_type": "stream",
     "text": [
      "contrast,dissimilarity,homogeneity,ASM,energy,correlation,class\r\n",
      "3064.37333333,44.7666666667,0.0167776128681,0.00173333333333,0.0416333199893,0.0221874295342,1\r\n",
      "2402.86,38.2133333333,0.0282677505832,0.00178333333333,0.0422295315311,0.0755802310597,1\r\n",
      "2373.47666667,38.8166666667,0.0315859780514,0.00175555555556,0.0418993502999,-0.00037896197183,1\r\n",
      "1017.66,25.6,0.0386273148104,0.00178333333333,0.0422295315311,0.185276346484,1\r\n",
      "1314.09666667,28.0366666667,0.0405068055082,0.0018,0.0424264068712,0.0850211350488,1\r\n",
      "4.77,1.53666666667,0.505520239697,0.0308888888889,0.17575235102,0.879718772235,0\r\n",
      "109.53,7.81666666667,0.184918477018,0.00683333333333,0.0826639784509,0.711481890701,0\r\n",
      "7.10666666667,1.52,0.567028238968,0.0496,0.222710574513,0.940785278309,0\r\n",
      "3.80666666667,0.82,0.775799143543,0.0781166666667,0.27949358967,0.803440310915,0\r\n",
      "46.5633333333,5.47,0.162008650311,0.00456111111111,0.0675359986312,0.8306820682,0\r\n",
      "\n"
     ]
    }
   ],
   "source": [
    "import petl as etl\n",
    "import csv\n",
    "\n",
    "table1 = [['contrast' , 'dissimilarity' ,'homogeneity', 'ASM','energy','correlation','class'],\n",
    "          [3064.373333333333, 44.766666666666673, 0.016777612868135755, 0.0017333333333333337, 0.04163331998932266, 0.022187429534170345, 1]\n",
    ",\n",
    "[2402.8600000000001, 38.213333333333338, 0.028267750583189144, 0.0017833333333333338, 0.042229531531066428, 0.075580231059673958, 1]\n",
    ",\n",
    "[2373.4766666666665, 38.816666666666663, 0.031585978051443052, 0.0017555555555555558, 0.041899350299921784, -0.00037896197182960071, 1]\n",
    ",\n",
    "[1017.6600000000001, 25.600000000000001, 0.038627314810387163, 0.0017833333333333338, 0.042229531531066428, 0.18527634648442973, 1]\n",
    ",\n",
    "[1314.0966666666668, 28.036666666666669, 0.040506805508198754, 0.0018000000000000004, 0.042426406871192854, 0.085021135048825511, 1]\n",
    ",\n",
    "[4.7699999999999996, 1.5366666666666666, 0.50552023969671034, 0.030888888888888893, 0.17575235101952091, 0.87971877223490103, 0]\n",
    ",\n",
    "[109.53, 7.8166666666666682, 0.184918477017677, 0.0068333333333333336, 0.082663978450914971, 0.71148189070107937, 0]\n",
    ",\n",
    "[7.1066666666666674, 1.52, 0.56702823896770749, 0.049599999999999998, 0.22271057451320087, 0.94078527830919201, 0]\n",
    ",\n",
    "[3.8066666666666666, 0.81999999999999995, 0.77579914354261559, 0.078116666666666654, 0.27949358967007931, 0.80344031091543122, 0]\n",
    ",\n",
    "[46.563333333333333, 5.4699999999999998, 0.16200865031069853, 0.0045611111111111121, 0.067535998631182703, 0.83068206819993129, 0]]\n",
    "        \n",
    "\n",
    "etl.tocsv(table1, 'example.csv')\n",
    "\n",
    "print(open('example.csv').read())"
   ]
  },
  {
   "cell_type": "code",
   "execution_count": 38,
   "metadata": {
    "collapsed": false,
    "deletable": true,
    "editable": true
   },
   "outputs": [
    {
     "name": "stdout",
     "output_type": "stream",
     "text": [
      "contrast,dissimilarity,homogeneity,ASM,energy,correlation,class\r\n",
      "2221.02,37.3133333333,0.0351129227448,0.00180555555556,0.0424918292799,0.00153338595237,1\r\n",
      "2253.73,38.7233333333,0.0241250630919,0.00175,0.0418330013267,0.00381635955383,1\r\n",
      "2599.92,40.8533333333,0.0253044723593,0.00177777777778,0.0421637021356,0.00533145144188,1\r\n",
      "2.29,0.95,0.646945701357,0.0339,0.184119526395,0.9452027187,0\r\n",
      "2.87333333333,1.07333333333,0.603847711022,0.0988055555556,0.314333510074,0.3520615767,0\r\n",
      "2.79666666667,1.07666666667,0.593085929275,0.0291277777778,0.17066861978,0.889011156429,0\r\n",
      "\n"
     ]
    }
   ],
   "source": [
    "import petl as etl\n",
    "import csv\n",
    "\n",
    "table2 = [['contrast' , 'dissimilarity' ,'homogeneity', 'ASM','energy','correlation','class'],\n",
    "          [2221.02, 37.313333333333333, 0.035112922744846557, 0.0018055555555555561, 0.042491829279939879, 0.0015333859523680847, 1]\n",
    ",\n",
    "[2253.73, 38.723333333333329, 0.024125063091868654, 0.0017500000000000003, 0.041833001326703784, 0.0038163595538323928, 1]\n",
    ",\n",
    "[2599.9200000000001, 40.853333333333339, 0.025304472359330196, 0.0017777777777777783, 0.0421637021355784, 0.0053314514418818836, 1]\n",
    ",\n",
    "[2.29, 0.94999999999999996, 0.64694570135746621, 0.0339, 0.1841195263952197, 0.94520271870024375, 0]\n",
    ",\n",
    "[2.8733333333333331, 1.0733333333333333, 0.60384771102206791, 0.098805555555555535, 0.31433351007418148, 0.3520615767002746, 0]\n",
    ",\n",
    "[2.7966666666666669, 1.0766666666666667, 0.59308592927457027, 0.029127777777777777, 0.17066861978049092, 0.88901115642922834, 0]]\n",
    "\n",
    "etl.tocsv(table2, 'example1.csv')\n",
    "\n",
    "print(open('example1.csv').read())\n"
   ]
  },
  {
   "cell_type": "code",
   "execution_count": 41,
   "metadata": {
    "collapsed": false,
    "deletable": true,
    "editable": true
   },
   "outputs": [
    {
     "data": {
      "text/html": [
       "<div>\n",
       "<style>\n",
       "    .dataframe thead tr:only-child th {\n",
       "        text-align: right;\n",
       "    }\n",
       "\n",
       "    .dataframe thead th {\n",
       "        text-align: left;\n",
       "    }\n",
       "\n",
       "    .dataframe tbody tr th {\n",
       "        vertical-align: top;\n",
       "    }\n",
       "</style>\n",
       "<table border=\"1\" class=\"dataframe\">\n",
       "  <thead>\n",
       "    <tr style=\"text-align: right;\">\n",
       "      <th></th>\n",
       "      <th>contrast</th>\n",
       "      <th>dissimilarity</th>\n",
       "      <th>homogeneity</th>\n",
       "      <th>ASM</th>\n",
       "      <th>energy</th>\n",
       "      <th>correlation</th>\n",
       "      <th>class</th>\n",
       "    </tr>\n",
       "  </thead>\n",
       "  <tbody>\n",
       "    <tr>\n",
       "      <th>1</th>\n",
       "      <td>2253.730000</td>\n",
       "      <td>38.723333</td>\n",
       "      <td>0.024125</td>\n",
       "      <td>0.001750</td>\n",
       "      <td>0.041833</td>\n",
       "      <td>0.003816</td>\n",
       "      <td>1</td>\n",
       "    </tr>\n",
       "    <tr>\n",
       "      <th>2</th>\n",
       "      <td>2599.920000</td>\n",
       "      <td>40.853333</td>\n",
       "      <td>0.025304</td>\n",
       "      <td>0.001778</td>\n",
       "      <td>0.042164</td>\n",
       "      <td>0.005331</td>\n",
       "      <td>1</td>\n",
       "    </tr>\n",
       "    <tr>\n",
       "      <th>3</th>\n",
       "      <td>2.290000</td>\n",
       "      <td>0.950000</td>\n",
       "      <td>0.646946</td>\n",
       "      <td>0.033900</td>\n",
       "      <td>0.184120</td>\n",
       "      <td>0.945203</td>\n",
       "      <td>0</td>\n",
       "    </tr>\n",
       "    <tr>\n",
       "      <th>4</th>\n",
       "      <td>2.873333</td>\n",
       "      <td>1.073333</td>\n",
       "      <td>0.603848</td>\n",
       "      <td>0.098806</td>\n",
       "      <td>0.314334</td>\n",
       "      <td>0.352062</td>\n",
       "      <td>0</td>\n",
       "    </tr>\n",
       "    <tr>\n",
       "      <th>5</th>\n",
       "      <td>2.796667</td>\n",
       "      <td>1.076667</td>\n",
       "      <td>0.593086</td>\n",
       "      <td>0.029128</td>\n",
       "      <td>0.170669</td>\n",
       "      <td>0.889011</td>\n",
       "      <td>0</td>\n",
       "    </tr>\n",
       "  </tbody>\n",
       "</table>\n",
       "</div>"
      ],
      "text/plain": [
       "      contrast  dissimilarity  homogeneity       ASM    energy  correlation  \\\n",
       "1  2253.730000      38.723333     0.024125  0.001750  0.041833     0.003816   \n",
       "2  2599.920000      40.853333     0.025304  0.001778  0.042164     0.005331   \n",
       "3     2.290000       0.950000     0.646946  0.033900  0.184120     0.945203   \n",
       "4     2.873333       1.073333     0.603848  0.098806  0.314334     0.352062   \n",
       "5     2.796667       1.076667     0.593086  0.029128  0.170669     0.889011   \n",
       "\n",
       "   class  \n",
       "1      1  \n",
       "2      1  \n",
       "3      0  \n",
       "4      0  \n",
       "5      0  "
      ]
     },
     "execution_count": 41,
     "metadata": {},
     "output_type": "execute_result"
    }
   ],
   "source": [
    "train = pd.read_csv('example.csv')   \n",
    "test = pd.read_csv('example1.csv')\n",
    "\n",
    "train.head()\n",
    "train.tail()#last 5 sky-0 rows\n",
    "test.tail()"
   ]
  },
  {
   "cell_type": "code",
   "execution_count": 42,
   "metadata": {
    "collapsed": false,
    "deletable": true,
    "editable": true
   },
   "outputs": [
    {
     "name": "stdout",
     "output_type": "stream",
     "text": [
      "[[  3.06437333e+03   4.47666667e+01   1.67776129e-02   1.73333333e-03\n",
      "    4.16333200e-02   2.21874295e-02]\n",
      " [  2.40286000e+03   3.82133333e+01   2.82677506e-02   1.78333333e-03\n",
      "    4.22295315e-02   7.55802311e-02]\n",
      " [  2.37347667e+03   3.88166667e+01   3.15859781e-02   1.75555556e-03\n",
      "    4.18993503e-02  -3.78961972e-04]\n",
      " [  1.01766000e+03   2.56000000e+01   3.86273148e-02   1.78333333e-03\n",
      "    4.22295315e-02   1.85276346e-01]\n",
      " [  1.31409667e+03   2.80366667e+01   4.05068055e-02   1.80000000e-03\n",
      "    4.24264069e-02   8.50211350e-02]\n",
      " [  4.77000000e+00   1.53666667e+00   5.05520240e-01   3.08888889e-02\n",
      "    1.75752351e-01   8.79718772e-01]\n",
      " [  1.09530000e+02   7.81666667e+00   1.84918477e-01   6.83333333e-03\n",
      "    8.26639785e-02   7.11481891e-01]\n",
      " [  7.10666667e+00   1.52000000e+00   5.67028239e-01   4.96000000e-02\n",
      "    2.22710575e-01   9.40785278e-01]\n",
      " [  3.80666667e+00   8.20000000e-01   7.75799144e-01   7.81166667e-02\n",
      "    2.79493590e-01   8.03440311e-01]\n",
      " [  4.65633333e+01   5.47000000e+00   1.62008650e-01   4.56111111e-03\n",
      "    6.75359986e-02   8.30682068e-01]]\n"
     ]
    }
   ],
   "source": [
    "from sklearn.neighbors import KNeighborsClassifier\n",
    "\n",
    "cols = ['contrast', 'dissimilarity','homogeneity','ASM','energy','correlation']\n",
    "cols2 = ['class']\n",
    "\n",
    "trainArr = train.as_matrix(cols)\n",
    "print trainArr\n",
    "trainRes = train.as_matrix(cols2)"
   ]
  },
  {
   "cell_type": "code",
   "execution_count": 43,
   "metadata": {
    "collapsed": false,
    "deletable": true,
    "editable": true
   },
   "outputs": [
    {
     "name": "stdout",
     "output_type": "stream",
     "text": [
      "[[  2.22102000e+03   3.73133333e+01   3.51129227e-02   1.80555556e-03\n",
      "    4.24918293e-02   1.53338595e-03]\n",
      " [  2.25373000e+03   3.87233333e+01   2.41250631e-02   1.75000000e-03\n",
      "    4.18330013e-02   3.81635955e-03]\n",
      " [  2.59992000e+03   4.08533333e+01   2.53044724e-02   1.77777778e-03\n",
      "    4.21637021e-02   5.33145144e-03]\n",
      " [  2.29000000e+00   9.50000000e-01   6.46945701e-01   3.39000000e-02\n",
      "    1.84119526e-01   9.45202719e-01]\n",
      " [  2.87333333e+00   1.07333333e+00   6.03847711e-01   9.88055556e-02\n",
      "    3.14333510e-01   3.52061577e-01]\n",
      " [  2.79666667e+00   1.07666667e+00   5.93085929e-01   2.91277778e-02\n",
      "    1.70668620e-01   8.89011156e-01]]\n"
     ]
    }
   ],
   "source": [
    "testArr = test.as_matrix(cols)\n",
    "testRes = test.as_matrix(cols2)\n",
    "print testArr"
   ]
  },
  {
   "cell_type": "code",
   "execution_count": 44,
   "metadata": {
    "collapsed": false,
    "deletable": true,
    "editable": true
   },
   "outputs": [
    {
     "name": "stderr",
     "output_type": "stream",
     "text": [
      "/home/arundhati/envs/py2/lib/python2.7/site-packages/ipykernel/__main__.py:2: DataConversionWarning: A column-vector y was passed when a 1d array was expected. Please change the shape of y to (n_samples, ), for example using ravel().\n",
      "  from ipykernel import kernelapp as app\n"
     ]
    }
   ],
   "source": [
    "knn = KNeighborsClassifier(n_neighbors=3, weights='distance')\n",
    "knn.fit(trainArr, trainRes)\n",
    "\n",
    "output = knn.predict(testArr)"
   ]
  },
  {
   "cell_type": "code",
   "execution_count": 45,
   "metadata": {
    "collapsed": false,
    "deletable": true,
    "editable": true
   },
   "outputs": [
    {
     "name": "stdout",
     "output_type": "stream",
     "text": [
      "[1]\n",
      "[1]\n",
      "[0]\n",
      "[0]\n",
      "6\n"
     ]
    },
    {
     "name": "stderr",
     "output_type": "stream",
     "text": [
      "/home/arundhati/envs/py2/local/lib/python2.7/site-packages/sklearn/utils/validation.py:395: DeprecationWarning: Passing 1d arrays as data is deprecated in 0.17 and will raise ValueError in 0.19. Reshape your data either using X.reshape(-1, 1) if your data has a single feature or X.reshape(1, -1) if it contains a single sample.\n",
      "  DeprecationWarning)\n",
      "/home/arundhati/envs/py2/local/lib/python2.7/site-packages/sklearn/utils/validation.py:395: DeprecationWarning: Passing 1d arrays as data is deprecated in 0.17 and will raise ValueError in 0.19. Reshape your data either using X.reshape(-1, 1) if your data has a single feature or X.reshape(1, -1) if it contains a single sample.\n",
      "  DeprecationWarning)\n"
     ]
    }
   ],
   "source": [
    "# or predict on a specific example!\n",
    "print(knn.predict(testArr[0]))\n",
    "print (testRes[0])\n",
    "\n",
    "print(knn.predict(testArr[3]))\n",
    "print (testRes[3])\n",
    "\n",
    "print len(testRes)                # a match!"
   ]
  },
  {
   "cell_type": "code",
   "execution_count": 46,
   "metadata": {
    "collapsed": false,
    "deletable": true,
    "editable": true
   },
   "outputs": [
    {
     "data": {
      "text/plain": [
       "1.0"
      ]
     },
     "execution_count": 46,
     "metadata": {},
     "output_type": "execute_result"
    }
   ],
   "source": [
    "correct = 0.0\n",
    "\n",
    "for i in range(len(output)): \n",
    "    if testRes[i][0] == output[i]: \n",
    "        correct += 1\n",
    "    \n",
    "correct / len(output)"
   ]
  }
 ],
 "metadata": {
  "kernelspec": {
   "display_name": "Python 2",
   "language": "python",
   "name": "python2"
  },
  "language_info": {
   "codemirror_mode": {
    "name": "ipython",
    "version": 2
   },
   "file_extension": ".py",
   "mimetype": "text/x-python",
   "name": "python",
   "nbconvert_exporter": "python",
   "pygments_lexer": "ipython2",
   "version": "2.7.13"
  }
 },
 "nbformat": 4,
 "nbformat_minor": 2
}
